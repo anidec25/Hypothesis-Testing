{
 "cells": [
  {
   "attachments": {},
   "cell_type": "markdown",
   "metadata": {},
   "source": [
    "## Outlier Decteion Techniques\n",
    "\n",
    "There are several types of outlier detection methods, and the choice of method will depend on the data and the specific problem at hand. Here are some of the most common types of outlier detection methods:\n",
    "\n",
    "Statistical Methods: These methods are based on statistical models and assumptions, such as the mean, median, and standard deviation. Outliers are detected by computing these statistics and identifying observations that deviate significantly from them.\n",
    "\n",
    "Distance-Based Methods: These methods compute the distance between each observation and its nearest neighbors. Observations that are significantly farther away than the others are considered outliers.\n",
    "\n",
    "Density-Based Methods: These methods identify outliers based on their location in a density plot. Observations that fall in low-density regions are considered outliers.\n",
    "\n",
    "Clustering-Based Methods: These methods use clustering algorithms to group observations into clusters. Observations that do not belong to any cluster or belong to a small cluster are considered outliers.\n",
    "\n",
    "Machine Learning-Based Methods: These methods use various machine learning algorithms, such as neural networks and support vector machines, to learn the normal patterns in the data and identify observations that do not fit these patterns.\n",
    "\n",
    "It is worth noting that no single method is universally applicable, and the choice of method will depend on the nature of the data and the specific problem at hand.\n",
    "\n",
    "1. IQR (Inter Quantile Range)\n",
    "2. Z-Score Technique\n",
    "3. Elliptical Envelope\n",
    "4. Isolation Forest\n",
    "5. Local Outlier Factor"
   ]
  },
  {
   "attachments": {},
   "cell_type": "markdown",
   "metadata": {},
   "source": [
    "#### IQR (Inter Quantile Range)"
   ]
  },
  {
   "cell_type": "code",
   "execution_count": 1,
   "metadata": {},
   "outputs": [],
   "source": [
    "import numpy as np\n",
    "import pandas as pd\n",
    "import seaborn as sns\n",
    "import matplotlib.pyplot as plt\n",
    "\n",
    "import warnings as war\n",
    "war.filterwarnings('ignore')"
   ]
  },
  {
   "cell_type": "code",
   "execution_count": 6,
   "metadata": {},
   "outputs": [
    {
     "data": {
      "text/plain": [
       "35"
      ]
     },
     "execution_count": 6,
     "metadata": {},
     "output_type": "execute_result"
    }
   ],
   "source": [
    "import random \n",
    "\n",
    "\n",
    "random.randrange(1,1000)"
   ]
  },
  {
   "cell_type": "code",
   "execution_count": 20,
   "metadata": {},
   "outputs": [
    {
     "name": "stdout",
     "output_type": "stream",
     "text": [
      "              A            B           C           D         E\n",
      "0   1000.000000    -0.138264    0.647689    1.523030 -0.234153\n",
      "1     -0.234137 -1000.000000    0.767435   -0.469474  0.542560\n",
      "2     -0.463418    -0.465730  200.000000   -1.913280 -1.724918\n",
      "3     -0.562288    -1.012831    0.314247 -200.000000 -1.412304\n",
      "4      1.465649    -0.225776    0.067528   -1.424748       NaN\n",
      "..          ...          ...         ...         ...       ...\n",
      "95    -0.249036     0.576557    0.311250    3.078881  1.119575\n",
      "96    -0.127918    -0.955540   -1.606446    0.203464 -0.756351\n",
      "97    -1.422254    -0.646573   -1.081548    1.687142  0.881640\n",
      "98    -0.007973     1.479944    0.077368   -0.861284  1.523124\n",
      "99     0.538910    -1.037246   -0.190339   -0.875618 -1.382800\n",
      "\n",
      "[100 rows x 5 columns]\n"
     ]
    }
   ],
   "source": [
    "#Generating the data\n",
    "\n",
    "# Create a random dataframe with 5 columns and 100 rows\n",
    "np.random.seed(42)\n",
    "df = pd.DataFrame(np.random.randn(100, 5), columns=['A', 'B', 'C', 'D', 'E'])\n",
    "\n",
    "# Add some outliers\n",
    "df.iloc[0, 0] = 1000   # A very large value in column A\n",
    "df.iloc[1, 1] = -1000  # A very small value in column B\n",
    "df.iloc[2, 2] = 200    # A large value in column C\n",
    "df.iloc[3, 3] = -200   # A small value in column D\n",
    "df.iloc[4, 4] = np.nan # A missing value in column E\n",
    "\n",
    "# Print the dataframe\n",
    "print(df)"
   ]
  },
  {
   "cell_type": "code",
   "execution_count": 26,
   "metadata": {},
   "outputs": [
    {
     "data": {
      "text/plain": [
       "<Axes: xlabel='E', ylabel='Density'>"
      ]
     },
     "execution_count": 26,
     "metadata": {},
     "output_type": "execute_result"
    },
    {
     "data": {
      "image/png": "[encoded data removed]",
      "text/plain": [
       "<Figure size 640x480 with 1 Axes>"
      ]
     },
     "metadata": {},
     "output_type": "display_data"
    }
   ],
   "source": [
    "sns.distplot(df['E'])"
   ]
  },
  {
   "cell_type": "code",
   "execution_count": 33,
   "metadata": {},
   "outputs": [],
   "source": [
    "data = df['E'].dropna().values\n"
   ]
  },
  {
   "cell_type": "code",
   "execution_count": 35,
   "metadata": {},
   "outputs": [
    {
     "name": "stdout",
     "output_type": "stream",
     "text": [
      "1.4087064825284892\n"
     ]
    }
   ],
   "source": [
    "Q1 = np.quantile(data,0.25)\n",
    "Q3 = np.quantile(data,0.75)\n",
    "\n",
    "IQR = Q3 - Q1\n",
    "\n",
    "print(IQR)"
   ]
  },
  {
   "cell_type": "code",
   "execution_count": 36,
   "metadata": {},
   "outputs": [],
   "source": [
    "Lower_limit = Q1 - 1.5*IQR\n",
    "Upper_limit = Q3 + 1.5*IQR"
   ]
  },
  {
   "cell_type": "code",
   "execution_count": 37,
   "metadata": {},
   "outputs": [
    {
     "name": "stdout",
     "output_type": "stream",
     "text": [
      "[3.8527314906547208]\n"
     ]
    }
   ],
   "source": [
    "ans = []\n",
    "\n",
    "for i in range(len(data)):\n",
    "\n",
    "    if data[i] < Lower_limit:\n",
    "        ans.append(data[i])\n",
    "    \n",
    "    if data[i] > Upper_limit:\n",
    "        ans.append(data[i])\n",
    "\n",
    "print(ans)"
   ]
  },
  {
   "cell_type": "code",
   "execution_count": null,
   "metadata": {},
   "outputs": [],
   "source": [
    "    "
   ]
  }
 ],
 "metadata": {
  "kernelspec": {
   "display_name": "Python 3.8.8 ('base')",
   "language": "python",
   "name": "python3"
  },
  "language_info": {
   "codemirror_mode": {
    "name": "ipython",
    "version": 3
   },
   "file_extension": ".py",
   "mimetype": "text/x-python",
   "name": "python",
   "nbconvert_exporter": "python",
   "pygments_lexer": "ipython3",
   "version": "3.10.9"
  },
  "orig_nbformat": 4,
  "vscode": {
   "interpreter": {
    "hash": "1e287c795756e004cbc239a0cd2370360bfb1c5c74b3b718d3796ac64793fd0d"
   }
  }
 },
 "nbformat": 4,
 "nbformat_minor": 2
}

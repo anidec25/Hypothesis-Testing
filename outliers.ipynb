{
 "cells": [
  {
   "attachments": {},
   "cell_type": "markdown",
   "metadata": {},
   "source": [
    "## Outlier Decteion Techniques\n",
    "\n",
    "There are several types of outlier detection methods, and the choice of method will depend on the data and the specific problem at hand. Here are some of the most common types of outlier detection methods:\n",
    "\n",
    "Statistical Methods: These methods are based on statistical models and assumptions, such as the mean, median, and standard deviation. Outliers are detected by computing these statistics and identifying observations that deviate significantly from them.\n",
    "\n",
    "Distance-Based Methods: These methods compute the distance between each observation and its nearest neighbors. Observations that are significantly farther away than the others are considered outliers.\n",
    "\n",
    "Density-Based Methods: These methods identify outliers based on their location in a density plot. Observations that fall in low-density regions are considered outliers.\n",
    "\n",
    "Clustering-Based Methods: These methods use clustering algorithms to group observations into clusters. Observations that do not belong to any cluster or belong to a small cluster are considered outliers.\n",
    "\n",
    "Machine Learning-Based Methods: These methods use various machine learning algorithms, such as neural networks and support vector machines, to learn the normal patterns in the data and identify observations that do not fit these patterns.\n",
    "\n",
    "It is worth noting that no single method is universally applicable, and the choice of method will depend on the nature of the data and the specific problem at hand."
   ]
  },
  {
   "attachments": {},
   "cell_type": "markdown",
   "metadata": {},
   "source": [
    "Here are some of the Outlier based techniques we'll cover in this notebook\n",
    "\n",
    "1. IQR (Inter Quantile Range)\n",
    "2. Z-Score Technique\n",
    "3. Elliptical Envelope\n",
    "4. Isolation Forest\n",
    "5. Local Outlier Factor"
   ]
  },
  {
   "attachments": {},
   "cell_type": "markdown",
   "metadata": {},
   "source": [
    "#### IQR (Inter Quantile Range)"
   ]
  },
  {
   "cell_type": "code",
   "execution_count": 1,
   "metadata": {},
   "outputs": [],
   "source": [
    "import numpy as np\n",
    "import pandas as pd\n",
    "import seaborn as sns\n",
    "import matplotlib.pyplot as plt\n",
    "\n",
    "import warnings as war\n",
    "war.filterwarnings('ignore')"
   ]
  },
  {
   "cell_type": "code",
   "execution_count": 6,
   "metadata": {},
   "outputs": [
    {
     "data": {
      "text/plain": [
       "35"
      ]
     },
     "execution_count": 6,
     "metadata": {},
     "output_type": "execute_result"
    }
   ],
   "source": [
    "import random \n",
    "\n",
    "\n",
    "random.randrange(1,1000)"
   ]
  },
  {
   "cell_type": "code",
   "execution_count": 39,
   "metadata": {},
   "outputs": [
    {
     "name": "stdout",
     "output_type": "stream",
     "text": [
      "                A            B           C           D         E\n",
      "0     1000.000000    -0.138264    0.647689    1.523030 -0.234153\n",
      "1       -0.234137 -1000.000000    0.767435   -0.469474  0.542560\n",
      "2       -0.463418    -0.465730  200.000000   -1.913280 -1.724918\n",
      "3       -0.562288    -1.012831    0.314247 -200.000000 -1.412304\n",
      "4        1.465649    -0.225776    0.067528   -1.424748       NaN\n",
      "...           ...          ...         ...         ...       ...\n",
      "9995    -1.153965     0.265739   -0.192730    1.527117 -2.505187\n",
      "9996     0.040727     0.433389    0.897684    0.143323  0.364795\n",
      "9997     0.176032     0.439752   -0.019282    2.116179  0.577845\n",
      "9998     0.197389    -0.738124   -0.342293    1.510120 -2.484976\n",
      "9999     0.056799    -0.024923    0.500085    0.265215  1.515811\n",
      "\n",
      "[10000 rows x 5 columns]\n"
     ]
    }
   ],
   "source": [
    "#Generating the data\n",
    "\n",
    "# Create a random dataframe with 5 columns and 100 rows\n",
    "np.random.seed(42)\n",
    "df = pd.DataFrame(np.random.randn(10000, 5), columns=['A', 'B', 'C', 'D', 'E'])\n",
    "\n",
    "# Add some outliers\n",
    "df.iloc[0, 0] = 1000   # A very large value in column A\n",
    "df.iloc[1, 1] = -1000  # A very small value in column B\n",
    "df.iloc[2, 2] = 200    # A large value in column C\n",
    "df.iloc[3, 3] = -200   # A small value in column D\n",
    "df.iloc[4, 4] = np.nan # A missing value in column E\n",
    "\n",
    "# Print the dataframe\n",
    "print(df)"
   ]
  },
  {
   "cell_type": "code",
   "execution_count": 40,
   "metadata": {},
   "outputs": [
    {
     "data": {
      "text/plain": [
       "<Axes: xlabel='D', ylabel='Density'>"
      ]
     },
     "execution_count": 40,
     "metadata": {},
     "output_type": "execute_result"
    },
    {
     "data": {
      "image/png": "[encoded data removed]",
      "text/plain": [
       "<Figure size 640x480 with 1 Axes>"
      ]
     },
     "metadata": {},
     "output_type": "display_data"
    }
   ],
   "source": [
    "sns.distplot(df['D'])"
   ]
  },
  {
   "cell_type": "code",
   "execution_count": 33,
   "metadata": {},
   "outputs": [],
   "source": [
    "data = df['E'].dropna().values\n"
   ]
  },
  {
   "cell_type": "code",
   "execution_count": 35,
   "metadata": {},
   "outputs": [
    {
     "name": "stdout",
     "output_type": "stream",
     "text": [
      "1.4087064825284892\n"
     ]
    }
   ],
   "source": [
    "Q1 = np.quantile(data,0.25)\n",
    "Q3 = np.quantile(data,0.75)\n",
    "\n",
    "IQR = Q3 - Q1\n",
    "\n",
    "print(IQR)"
   ]
  },
  {
   "cell_type": "code",
   "execution_count": 36,
   "metadata": {},
   "outputs": [],
   "source": [
    "Lower_limit = Q1 - 1.5*IQR\n",
    "Upper_limit = Q3 + 1.5*IQR"
   ]
  },
  {
   "cell_type": "code",
   "execution_count": 37,
   "metadata": {},
   "outputs": [
    {
     "name": "stdout",
     "output_type": "stream",
     "text": [
      "[3.8527314906547208]\n"
     ]
    }
   ],
   "source": [
    "ans = []\n",
    "\n",
    "for i in range(len(data)):\n",
    "\n",
    "    if data[i] < Lower_limit:\n",
    "        ans.append(data[i])\n",
    "    \n",
    "    if data[i] > Upper_limit:\n",
    "        ans.append(data[i])\n",
    "\n",
    "print(ans)"
   ]
  },
  {
   "attachments": {},
   "cell_type": "markdown",
   "metadata": {},
   "source": [
    "## Z-Score Technique"
   ]
  },
  {
   "cell_type": "code",
   "execution_count": 42,
   "metadata": {},
   "outputs": [
    {
     "name": "stdout",
     "output_type": "stream",
     "text": [
      "0    0.496714\n",
      "1   -0.138264\n",
      "2    0.647689\n",
      "3    1.523030\n",
      "4   -0.234153\n",
      "5   -0.234137\n",
      "6    1.579213\n",
      "7    0.767435\n",
      "8   -0.469474\n",
      "9    0.542560\n",
      "dtype: float64\n"
     ]
    }
   ],
   "source": [
    "# Generate normal distribution \n",
    "\n",
    "# Generate a normal distribution with mean=0 and std=1\n",
    "np.random.seed(42)\n",
    "data = np.random.normal(0, 1, 1000)\n",
    "\n",
    "# Introduce some outliers\n",
    "outliers = np.random.choice(1000, size=20, replace=False)\n",
    "data[outliers] = np.random.normal(10, 5, size=20)\n",
    "\n",
    "# Convert to pandas series\n",
    "data = pd.Series(data)\n",
    "\n",
    "# Print the first 10 observations\n",
    "print(data.head(10))"
   ]
  },
  {
   "cell_type": "code",
   "execution_count": 43,
   "metadata": {},
   "outputs": [
    {
     "data": {
      "text/plain": [
       "<Axes: ylabel='Density'>"
      ]
     },
     "execution_count": 43,
     "metadata": {},
     "output_type": "execute_result"
    },
    {
     "data": {
      "image/png": "[encoded data removed]",
      "text/plain": [
       "<Figure size 640x480 with 1 Axes>"
      ]
     },
     "metadata": {},
     "output_type": "display_data"
    }
   ],
   "source": [
    "sns.distplot(data)"
   ]
  },
  {
   "cell_type": "code",
   "execution_count": 51,
   "metadata": {},
   "outputs": [],
   "source": [
    "# Standadise all values to z-scores\n",
    "\n",
    "z_values = []\n",
    "for i in range(len(data)):\n",
    "    z_values.append((data[i] - data.mean())/data.std())"
   ]
  },
  {
   "cell_type": "code",
   "execution_count": 79,
   "metadata": {},
   "outputs": [],
   "source": [
    "z_values = np.array(z_values)\n",
    "\n",
    "z_values_mod = z_values[(z_values < 2.8) & (z_values > -2.8)]"
   ]
  },
  {
   "cell_type": "code",
   "execution_count": 80,
   "metadata": {},
   "outputs": [
    {
     "data": {
      "text/plain": [
       "<seaborn.axisgrid.FacetGrid at 0x15b14ada0>"
      ]
     },
     "execution_count": 80,
     "metadata": {},
     "output_type": "execute_result"
    },
    {
     "data": {
      "image/png": "[encoded data removed]",
      "text/plain": [
       "<Figure size 500x500 with 1 Axes>"
      ]
     },
     "metadata": {},
     "output_type": "display_data"
    }
   ],
   "source": [
    "sns.displot(z_values_mod)"
   ]
  },
  {
   "cell_type": "code",
   "execution_count": null,
   "metadata": {},
   "outputs": [],
   "source": []
  }
 ],
 "metadata": {
  "kernelspec": {
   "display_name": "Python 3.8.8 ('base')",
   "language": "python",
   "name": "python3"
  },
  "language_info": {
   "codemirror_mode": {
    "name": "ipython",
    "version": 3
   },
   "file_extension": ".py",
   "mimetype": "text/x-python",
   "name": "python",
   "nbconvert_exporter": "python",
   "pygments_lexer": "ipython3",
   "version": "3.10.9"
  },
  "orig_nbformat": 4,
  "vscode": {
   "interpreter": {
    "hash": "1e287c795756e004cbc239a0cd2370360bfb1c5c74b3b718d3796ac64793fd0d"
   }
  }
 },
 "nbformat": 4,
 "nbformat_minor": 2
}
